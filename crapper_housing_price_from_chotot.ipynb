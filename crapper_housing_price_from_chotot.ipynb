{
 "metadata": {
  "language_info": {
   "codemirror_mode": {
    "name": "ipython",
    "version": 3
   },
   "file_extension": ".py",
   "mimetype": "text/x-python",
   "name": "python",
   "nbconvert_exporter": "python",
   "pygments_lexer": "ipython3",
   "version": "3.9.0"
  },
  "orig_nbformat": 4,
  "kernelspec": {
   "name": "python3",
   "display_name": "Python 3.9.0 64-bit"
  },
  "interpreter": {
   "hash": "cbfec1736f07692314c7d155a52f0b42ce3e3383560fcd862a0f3032a73bb1e9"
  }
 },
 "nbformat": 4,
 "nbformat_minor": 2,
 "cells": [
  {
   "cell_type": "code",
   "execution_count": 81,
   "metadata": {},
   "outputs": [],
   "source": [
    "from selenium import webdriver\n",
    "from selenium.webdriver.common.keys import Keys\n",
    "from webdriver_manager.chrome import ChromeDriverManager\n",
    "from time import sleep\n",
    "import re\n"
   ]
  },
  {
   "cell_type": "code",
   "execution_count": 82,
   "metadata": {},
   "outputs": [
    {
     "output_type": "stream",
     "name": "stderr",
     "text": [
      "\n",
      "\n",
      "====== WebDriver manager ======\n",
      "Current google-chrome version is 91.0.4472\n",
      "Get LATEST driver version for 91.0.4472\n",
      "Driver [C:\\Users\\Tran Quang Si\\.wdm\\drivers\\chromedriver\\win32\\91.0.4472.101\\chromedriver.exe] found in cache\n"
     ]
    }
   ],
   "source": [
    "driver = webdriver.Chrome(ChromeDriverManager().install())\n"
   ]
  },
  {
   "cell_type": "code",
   "execution_count": 83,
   "metadata": {},
   "outputs": [],
   "source": [
    "url =\"https://nha.chotot.com/tp-ho-chi-minh/mua-ban-bat-dong-san?page=1\"\n",
    "driver.get(url)\n",
    "sleep(2)"
   ]
  },
  {
   "cell_type": "code",
   "execution_count": 84,
   "metadata": {},
   "outputs": [],
   "source": [
    "from bs4 import BeautifulSoup"
   ]
  },
  {
   "cell_type": "code",
   "execution_count": 85,
   "metadata": {},
   "outputs": [
    {
     "output_type": "stream",
     "name": "stdout",
     "text": [
      "['https://nha.chotot.com/tp-ho-chi-minh/mua-ban-bat-dong-san?page=1', 'https://nha.chotot.com/tp-ho-chi-minh/mua-ban-bat-dong-san?page=2']\n"
     ]
    }
   ],
   "source": [
    "def getURLsallPageList():\n",
    "    input_page=int(input('How many pages you want to srape: '))\n",
    "    URLs_all_page=[]\n",
    "    for page in range(input_page):\n",
    "        URLs_one_page = \"https://nha.chotot.com/tp-ho-chi-minh/mua-ban-bat-dong-san?page=\" + str(page + 1) \n",
    "        URLs_all_page.append(URLs_one_page)  \n",
    "    return URLs_all_page\n",
    "\n",
    "    \n",
    "print(getURLsallPageList())"
   ]
  },
  {
   "cell_type": "code",
   "execution_count": 86,
   "metadata": {},
   "outputs": [],
   "source": [
    "def getURLsallDetailHouse():\n",
    "    URls_all_page_list=getURLsallPageList()\n",
    "    urls=[]\n",
    "    # driver.get(URls_all_page_list[0])\n",
    "    # # resutl=driver.find_element_by_css_selector('a[class*=\"adItem__\"]')\n",
    "    # page_source=BeautifulSoup(driver.page_source)\n",
    "    # regex = re.compile('.*adItem__.*')\n",
    "    # product_infore_list = page_source.find_all(\"a\", {\"class\" : regex})\n",
    "    \n",
    "    for pageURL in URls_all_page_list:\n",
    "         driver.get(pageURL)\n",
    "         page_source=BeautifulSoup(driver.page_source)\n",
    "         regex = re.compile('.*adItem__.*')\n",
    "         housingList = page_source.find_all(\"a\", {\"class\" : regex})\n",
    "         for link in housingList:\n",
    "            urls.append(link['href'])\n",
    "    \n",
    "    return urls\n"
   ]
  },
  {
   "cell_type": "code",
   "execution_count": 87,
   "metadata": {},
   "outputs": [
    {
     "output_type": "execute_result",
     "data": {
      "text/plain": [
       "['/tp-ho-chi-minh/quan-tan-phu/[object Object]/85986005.htm#px=SR-stickyad-[PO-1][PL-top]',\n",
       " '/tp-ho-chi-minh/quan-8/[object Object]/86048898.htm#px=SR-stickyad-[PO-2][PL-top]',\n",
       " '/tp-ho-chi-minh/huyen-hoc-mon/[object Object]/86674940.htm#px=SR-stickyad-[PO-3][PL-top]',\n",
       " '/tp-ho-chi-minh/huyen-hoc-mon/[object Object]/86684399.htm#px=SR-stickyad-[PO-4][PL-top]',\n",
       " '/tp-ho-chi-minh/quan-12/[object Object]/83301290.htm#px=SR-stickyad-[PO-5][PL-top]',\n",
       " '/tp-ho-chi-minh/huyen-cu-chi/[object Object]/80847120.htm',\n",
       " '/tp-ho-chi-minh/quan-tan-binh/[object Object]/86702592.htm',\n",
       " '/tp-ho-chi-minh/huyen-can-gio/[object Object]/86702589.htm',\n",
       " '/tp-ho-chi-minh/quan-tan-phu/[object Object]/84479439.htm',\n",
       " '/tp-ho-chi-minh/quan-8/[object Object]/83135973.htm',\n",
       " '/tp-ho-chi-minh/quan-binh-thanh/[object Object]/86575043.htm',\n",
       " '/tp-ho-chi-minh/huyen-hoc-mon/[object Object]/86702565.htm',\n",
       " '/tp-ho-chi-minh/quan-go-vap/[object Object]/86702562.htm',\n",
       " '/tp-ho-chi-minh/huyen-binh-chanh/[object Object]/85110752.htm',\n",
       " '/tp-ho-chi-minh/quan-9/[object Object]/86556466.htm',\n",
       " '/tp-ho-chi-minh/quan-go-vap/[object Object]/86702528.htm',\n",
       " '/tp-ho-chi-minh/quan-binh-tan/[object Object]/86670914.htm',\n",
       " '/tp-ho-chi-minh/huyen-nha-be/[object Object]/75757299.htm',\n",
       " '/tp-ho-chi-minh/quan-7/[object Object]/86221272.htm',\n",
       " '/tp-ho-chi-minh/huyen-nha-be/[object Object]/86542178.htm',\n",
       " '/tp-ho-chi-minh/quan-thu-duc/[object Object]/86304270.htm',\n",
       " '/tp-ho-chi-minh/quan-tan-binh/[object Object]/80878066.htm',\n",
       " '/tp-ho-chi-minh/quan-tan-phu/[object Object]/86461189.htm',\n",
       " '/tp-ho-chi-minh/quan-tan-phu/[object Object]/86343439.htm',\n",
       " '/tp-ho-chi-minh/quan-go-vap/[object Object]/84869701.htm',\n",
       " '/tp-ho-chi-minh/quan-binh-tan/mua-ban-nha-dat/86689580.htm#px=SR-stickyad-[PO-1][PL-top]',\n",
       " '/tp-ho-chi-minh/quan-9/mua-ban-dat/81357900.htm#px=SR-stickyad-[PO-2][PL-top]',\n",
       " '/tp-ho-chi-minh/huyen-cu-chi/mua-ban-dat/86634725.htm#px=SR-stickyad-[PO-3][PL-top]',\n",
       " '/tp-ho-chi-minh/huyen-cu-chi/mua-ban-dat/86488931.htm#px=SR-stickyad-[PO-4][PL-top]',\n",
       " '/tp-ho-chi-minh/quan-2/mua-ban-can-ho-chung-cu/86441435.htm#px=SR-stickyad-[PO-5][PL-top]',\n",
       " '/tp-ho-chi-minh/quan-go-vap/mua-ban-nha-dat/84869701.htm',\n",
       " '/tp-ho-chi-minh/huyen-binh-chanh/mua-ban-nha-dat/82641145.htm',\n",
       " '/tp-ho-chi-minh/quan-tan-phu/mua-ban-can-ho-chung-cu/86702434.htm',\n",
       " '/tp-ho-chi-minh/huyen-binh-chanh/mua-ban-dat/68495792.htm',\n",
       " '/tp-ho-chi-minh/quan-binh-tan/mua-ban-can-ho-chung-cu/85435225.htm',\n",
       " '/tp-ho-chi-minh/quan-4/mua-ban-nha-dat/86320236.htm',\n",
       " '/tp-ho-chi-minh/quan-binh-thanh/mua-ban-dat/86003814.htm',\n",
       " '/tp-ho-chi-minh/quan-binh-tan/mua-ban-nha-dat/85719229.htm',\n",
       " '/tp-ho-chi-minh/huyen-nha-be/mua-ban-nha-dat/86154757.htm',\n",
       " '/tp-ho-chi-minh/quan-thu-duc/mua-ban-nha-dat/85126438.htm',\n",
       " '/tp-ho-chi-minh/quan-8/mua-ban-can-ho-chung-cu/86702394.htm',\n",
       " '/tp-ho-chi-minh/quan-binh-tan/mua-ban-nha-dat/86404982.htm',\n",
       " '/tp-ho-chi-minh/quan-tan-phu/mua-ban-nha-dat/86667242.htm',\n",
       " '/tp-ho-chi-minh/quan-binh-thanh/mua-ban-nha-dat/81198897.htm',\n",
       " '/tp-ho-chi-minh/quan-binh-thanh/mua-ban-can-ho-chung-cu/86290534.htm',\n",
       " '/tp-ho-chi-minh/quan-tan-phu/mua-ban-nha-dat/86702330.htm',\n",
       " '/tp-ho-chi-minh/quan-9/mua-ban-dat/86666638.htm',\n",
       " '/tp-ho-chi-minh/huyen-hoc-mon/mua-ban-nha-dat/86603620.htm',\n",
       " '/tp-ho-chi-minh/quan-binh-thanh/mua-ban-nha-dat/86702310.htm',\n",
       " '/tp-ho-chi-minh/quan-tan-binh/mua-ban-nha-dat/86126725.htm']"
      ]
     },
     "metadata": {},
     "execution_count": 87
    }
   ],
   "source": [
    "getURLsallDetailHouse()"
   ]
  },
  {
   "cell_type": "code",
   "execution_count": 88,
   "metadata": {},
   "outputs": [],
   "source": [
    "def getInforHouse(url):\n",
    "    url='https://nha.chotot.com/'+url\n",
    "    driver.get(url)\n",
    "    # resutl=driver.find_element_by_css_selector('a[class*=\"adItem__\"]')\n",
    "    page_source=BeautifulSoup(driver.page_source)\n",
    "    # result=page_source.select('span[itemprop=\"size\"]')\n",
    "    result=page_source.find(\"span\", {\"itemprop\" : \"size\"}).get_text().strip()\n",
    "    print(result)\n"
   ]
  },
  {
   "cell_type": "code",
   "execution_count": 89,
   "metadata": {},
   "outputs": [
    {
     "output_type": "stream",
     "name": "stdout",
     "text": [
      "52 m²\n"
     ]
    }
   ],
   "source": [
    "getInforHouse('/tp-ho-chi-minh/quan-9/mua-ban-nha-dat/85509570.htm')"
   ]
  },
  {
   "cell_type": "code",
   "execution_count": 97,
   "metadata": {},
   "outputs": [
    {
     "output_type": "stream",
     "name": "stdout",
     "text": [
      "yes\n",
      "yes\n",
      "yes\n",
      "yes\n",
      "toilet <span class=\"adParamValue___25KeI\" itemprop=\"toilets\">2 phòng</span>\n",
      "width <span class=\"adParamValue___25KeI\" itemprop=\"width\">3 m</span>\n",
      "Đường Trần Xuân Soạn, Phường Tân Hưng, Quận 7, Tp Hồ Chí Minh\n",
      "yes\n",
      "toilet <span class=\"adParamValue___25KeI\" itemprop=\"toilets\">2 phòng</span>\n",
      "width <span class=\"adParamValue___25KeI\" itemprop=\"width\">7.7 m</span>\n",
      "922, Đường Quốc lộ 1A, Phường Linh Trung, Quận Thủ Đức, Tp Hồ Chí Minh\n",
      "yes\n",
      "toilet <span class=\"adParamValue___25KeI\" itemprop=\"toilets\">2 phòng</span>\n",
      "width <span class=\"adParamValue___25KeI\" itemprop=\"width\">3.2 m</span>\n",
      "Đường Nguyễn Tri Phương, Phường 4, Quận 10, Tp Hồ Chí Minh\n",
      "yes\n",
      "yes\n",
      "yes\n",
      "yes\n",
      "toilet <span class=\"adParamValue___25KeI\" itemprop=\"toilets\">5 phòng</span>\n",
      "width <span class=\"adParamValue___25KeI\" itemprop=\"width\">8 m</span>\n",
      "1, Đường số 8 khu dân cư Cityland, Phường 5, Quận Gò Vấp, Tp Hồ Chí Minh\n",
      "yes\n",
      "toilet <span class=\"adParamValue___25KeI\" itemprop=\"toilets\">5 phòng</span>\n",
      "width <span class=\"adParamValue___25KeI\" itemprop=\"width\">8 m</span>\n",
      "Đường Quốc Lộ 50||8838, Xã Bình Hưng, Huyện Bình Chánh, Tp Hồ Chí Minh\n",
      "yes\n",
      "yes\n",
      "yes\n",
      "toilet <span class=\"adParamValue___25KeI\" itemprop=\"toilets\">2 phòng</span>\n",
      "width <span class=\"adParamValue___25KeI\" itemprop=\"width\">3.7 m</span>\n",
      "Đường Số 1, Phường 4, Quận Gò Vấp, Tp Hồ Chí Minh\n",
      "yes\n",
      "yes\n",
      "toilet <span class=\"adParamValue___25KeI\" itemprop=\"toilets\">2 phòng</span>\n",
      "width <span class=\"adParamValue___25KeI\" itemprop=\"width\">3 m</span>\n",
      "Đường Đoàn Văn Bơ, Phường 16, Quận 4, Tp Hồ Chí Minh\n",
      "yes\n",
      "yes\n",
      "toilet <span class=\"adParamValue___25KeI\" itemprop=\"toilets\">4 phòng</span>\n",
      "width <span class=\"adParamValue___25KeI\" itemprop=\"width\">4 m</span>\n",
      "Trương phước phan, Phường Bình Trị Đông, Quận Bình Tân, Tp Hồ Chí Minh\n",
      "yes\n",
      "toilet <span class=\"adParamValue___25KeI\" itemprop=\"toilets\">2 phòng</span>\n",
      "width <span class=\"adParamValue___25KeI\" itemprop=\"width\">4 m</span>\n",
      "Đường Quang Trung, Phường 8, Quận Gò Vấp, Tp Hồ Chí Minh\n",
      "yes\n",
      "yes\n",
      "toilet <span class=\"adParamValue___25KeI\" itemprop=\"toilets\">3 phòng</span>\n",
      "width <span class=\"adParamValue___25KeI\" itemprop=\"width\">3 m</span>\n",
      "Đường Hải Thượng Lãn Ông, Phường 14, Quận 5, Tp Hồ Chí Minh\n",
      "yes\n",
      "yes\n",
      "toilet <span class=\"adParamValue___25KeI\" itemprop=\"toilets\">2 phòng</span>\n",
      "width <span class=\"adParamValue___25KeI\" itemprop=\"width\">3 m</span>\n",
      "đường 3/2, Phường 12, Quận 11, Tp Hồ Chí Minh\n",
      "yes\n",
      "toilet <span class=\"adParamValue___25KeI\" itemprop=\"toilets\">2 phòng</span>\n",
      "width <span class=\"adParamValue___25KeI\" itemprop=\"width\">4 m</span>\n",
      "Đường Hương Lộ 11, Xã Hưng Long, Huyện Bình Chánh, Tp Hồ Chí Minh\n",
      "yes\n"
     ]
    }
   ],
   "source": [
    "with open('output.csv','w',newline= \"\",encoding=\"utf-8\") as file_output:\n",
    "    headers=['Location','Area','Price','Room','Tolet','Width']\n",
    "    writer =csv.DictWriter(file_output,delimiter=',',lineterminator='\\n',fieldnames=headers)\n",
    "    writer.writeheader()\n",
    "    urls=getURLsallDetailHouse()\n",
    "    # print(urls)\n",
    "    for url in urls:\n",
    "          print('yes')\n",
    "          link = 'https://nha.chotot.com/' + url\n",
    "          driver.get(link)\n",
    "          page_source=BeautifulSoup(driver.page_source)\n",
    "          area=page_source.find(\"span\", {\"itemprop\" : \"size\"})\n",
    "          price_m2=page_source.find(\"span\", {\"itemprop\" : \"price_m2\"})\n",
    "          rooms=page_source.find(\"span\", {\"itemprop\" : \"rooms\"})\n",
    "          toilets=page_source.find(\"span\", {\"itemprop\" : \"toilets\"})\n",
    "          width=page_source.find(\"span\", {\"itemprop\" : \"width\"})\n",
    "          width=page_source.find(\"span\", {\"itemprop\" : \"width\"})\n",
    "          location=page_source.find(\"span\",class_=\"fz13\")\n",
    "    \n",
    "          if None not in ( area ,price_m2 ,rooms ,toilets ,width ,location ):\n",
    "              print('toilet',toilets)\n",
    "              print('width',width)\n",
    "              area=area.get_text().strip()\n",
    "              price_m2=price_m2.get_text().strip()\n",
    "              rooms=rooms.get_text().strip()\n",
    "              toilets=toilets.get_text().strip()\n",
    "              width=width.get_text().strip()\n",
    "              location=location.get_text().strip()\n",
    "              print(location)\n",
    "              writer.writerow({headers[0]:location,headers[1]:area,headers[2]: price_m2,headers[3]:rooms,headers[4]:toilets,headers[5]:width})\n",
    "\n",
    "    "
   ]
  },
  {
   "cell_type": "code",
   "execution_count": null,
   "metadata": {},
   "outputs": [],
   "source": []
  }
 ]
}