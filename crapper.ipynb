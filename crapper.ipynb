{
 "metadata": {
  "language_info": {
   "codemirror_mode": {
    "name": "ipython",
    "version": 3
   },
   "file_extension": ".py",
   "mimetype": "text/x-python",
   "name": "python",
   "nbconvert_exporter": "python",
   "pygments_lexer": "ipython3",
   "version": "3.9.0"
  },
  "orig_nbformat": 2,
  "kernelspec": {
   "name": "python390jvsc74a57bd0cbfec1736f07692314c7d155a52f0b42ce3e3383560fcd862a0f3032a73bb1e9",
   "display_name": "Python 3.9.0 64-bit"
  },
  "metadata": {
   "interpreter": {
    "hash": "cbfec1736f07692314c7d155a52f0b42ce3e3383560fcd862a0f3032a73bb1e9"
   }
  }
 },
 "nbformat": 4,
 "nbformat_minor": 2,
 "cells": [
  {
   "cell_type": "code",
   "execution_count": 31,
   "metadata": {},
   "outputs": [
    {
     "output_type": "stream",
     "name": "stdout",
     "text": [
      "--Finish importign package\n"
     ]
    }
   ],
   "source": [
    "# import selenium\n",
    "\n",
    "from selenium import webdriver\n",
    "from selenium.webdriver.common.keys import Keys\n",
    "from webdriver_manager.chrome import ChromeDriverManager\n",
    "from time import sleep\n",
    "import csv\n",
    "print('--Finish importign package')"
   ]
  },
  {
   "cell_type": "code",
   "execution_count": 23,
   "metadata": {},
   "outputs": [
    {
     "output_type": "stream",
     "name": "stderr",
     "text": [
      "\n",
      "\n",
      "====== WebDriver manager ======\n",
      "Current google-chrome version is 90.0.4430\n",
      "Get LATEST driver version for 90.0.4430\n",
      "Driver [C:\\Users\\Tran Quang Si\\.wdm\\drivers\\chromedriver\\win32\\90.0.4430.24\\chromedriver.exe] found in cache\n"
     ]
    }
   ],
   "source": [
    "driver = webdriver.Chrome(ChromeDriverManager().install())\n",
    "url =\"https://batdongsan.com.vn/nha-dat-ban-tp-hcm\"\n",
    "driver.get(url)\n",
    "sleep(2)"
   ]
  },
  {
   "cell_type": "code",
   "execution_count": null,
   "metadata": {},
   "outputs": [],
   "source": [
    "from bs4 import BeautifulSoup"
   ]
  },
  {
   "cell_type": "code",
   "execution_count": 16,
   "metadata": {},
   "outputs": [
    {
     "output_type": "error",
     "ename": "Error",
     "evalue": "Pip module Unable to parse debugpy output, please log an issue with https://github.com/microsoft/vscode-jupyter is required for debugging cells. You will need to install it to debug cells.",
     "traceback": [
      "Error: Pip module Unable to parse debugpy output, please log an issue with https://github.com/microsoft/vscode-jupyter is required for debugging cells. You will need to install it to debug cells.",
      "at _.parseConnectInfo (c:\\Users\\Tran Quang Si\\.vscode\\extensions\\ms-toolsai.jupyter-2021.6.832593372\\out\\client\\extension.js:90:161460)",
      "at _.connectToLocal (c:\\Users\\Tran Quang Si\\.vscode\\extensions\\ms-toolsai.jupyter-2021.6.832593372\\out\\client\\extension.js:90:161987)",
      "at _.connect (c:\\Users\\Tran Quang Si\\.vscode\\extensions\\ms-toolsai.jupyter-2021.6.832593372\\out\\client\\extension.js:90:159864)",
      "at _.startDebugSession (c:\\Users\\Tran Quang Si\\.vscode\\extensions\\ms-toolsai.jupyter-2021.6.832593372\\out\\client\\extension.js:90:159011)",
      "at D.submitCode (c:\\Users\\Tran Quang Si\\.vscode\\extensions\\ms-toolsai.jupyter-2021.6.832593372\\out\\client\\extension.js:37:622214)",
      "at D.handleRunByLine (c:\\Users\\Tran Quang Si\\.vscode\\extensions\\ms-toolsai.jupyter-2021.6.832593372\\out\\client\\extension.js:37:610158)"
     ]
    }
   ],
   "source": []
  },
  {
   "cell_type": "code",
   "execution_count": null,
   "metadata": {},
   "outputs": [],
   "source": []
  },
  {
   "cell_type": "code",
   "execution_count": null,
   "metadata": {},
   "outputs": [],
   "source": []
  },
  {
   "cell_type": "code",
   "execution_count": null,
   "metadata": {},
   "outputs": [],
   "source": []
  },
  {
   "cell_type": "code",
   "execution_count": null,
   "metadata": {},
   "outputs": [],
   "source": []
  },
  {
   "cell_type": "code",
   "execution_count": null,
   "metadata": {},
   "outputs": [],
   "source": []
  },
  {
   "cell_type": "code",
   "execution_count": null,
   "metadata": {},
   "outputs": [],
   "source": []
  },
  {
   "cell_type": "code",
   "execution_count": 9,
   "metadata": {
    "tags": []
   },
   "outputs": [],
   "source": [
    "\n"
   ]
  },
  {
   "cell_type": "code",
   "execution_count": null,
   "metadata": {},
   "outputs": [],
   "source": []
  },
  {
   "cell_type": "code",
   "execution_count": 10,
   "metadata": {},
   "outputs": [
    {
     "output_type": "stream",
     "name": "stdout",
     "text": [
      "[<div class=\"product-info\">\n<span class=\"price\">55 tỷ</span>\n<span class=\"dot\">·</span>\n<span class=\"area\">3966 m²</span>\n<span class=\"dot\">·</span>\n<span class=\"location\">Bình Thạnh, Hồ Chí Minh</span>\n</div>, <div class=\"product-info\">\n<span class=\"price\">3.8 tỷ</span>\n<span class=\"dot\">·</span>\n<span class=\"area\">70 m²</span>\n<span class=\"location\">Quận 2, Hồ Chí Minh</span>\n</div>, <div class=\"product-info\">\n<span class=\"price\">Giá thỏa thuận</span>\n<span class=\"dot\">·</span>\n<span class=\"area\">136 m²</span>\n<span class=\"dot\">·</span>\n<span class=\"bedroom\">4 PN</span>\n<span class=\"dot\">·</span>\n<span class=\"toilet\">2 WC</span>\n<span class=\"location\">Quận 8, Hồ Chí Minh</span>\n</div>, <div class=\"product-info\">\n<span class=\"price\">7.7 tỷ</span>\n<span class=\"dot\">·</span>\n<span class=\"area\">92.3 m²</span>\n<span class=\"dot\">·</span>\n<span class=\"location\">Bình Tân, Hồ Chí Minh</span>\n</div>, <div class=\"product-info\">\n<span class=\"price\">1.4 tỷ</span>\n<span class=\"dot\">·</span>\n<span class=\"area\">85 m²</span>\n<span class=\"location\">Củ Chi, Hồ Chí Minh</span>\n</div>, <div class=\"product-info\">\n<span class=\"price\">6.2 tỷ</span>\n<span class=\"dot\">·</span>\n<span class=\"area\">102 m²</span>\n<span class=\"dot\">·</span>\n<span class=\"location\">Quận 2, Hồ Chí Minh</span>\n</div>, <div class=\"product-info\">\n<span class=\"price\">15 tỷ</span>\n<span class=\"dot\">·</span>\n<span class=\"area\">100 m²</span>\n<span class=\"dot\">·</span>\n<span class=\"bedroom\">6 PN</span>\n<span class=\"dot\">·</span>\n<span class=\"toilet\">6 WC</span>\n<span class=\"location\">Gò Vấp, Hồ Chí Minh</span>\n</div>, <div class=\"product-info\">\n<span class=\"price\">15.2 tỷ</span>\n<span class=\"dot\">·</span>\n<span class=\"area\">100 m²</span>\n<span class=\"dot\">·</span>\n<span class=\"bedroom\">4 PN</span>\n<span class=\"dot\">·</span>\n<span class=\"toilet\">4 WC</span>\n<span class=\"location\">Gò Vấp, Hồ Chí Minh</span>\n</div>, <div class=\"product-info\">\n<span class=\"price\">55 triệu/m²</span>\n<span class=\"dot\">·</span>\n<span class=\"area\">240 m²</span>\n<span class=\"dot\">·</span>\n<span class=\"location\">Tân Phú, Hồ Chí Minh</span>\n</div>, <div class=\"product-info\">\n<span class=\"price\">14.5 tỷ</span>\n<span class=\"dot\">·</span>\n<span class=\"area\">105.5 m²</span>\n<span class=\"dot\">·</span>\n<span class=\"location\">Quận 6, Hồ Chí Minh</span>\n</div>, <div class=\"product-info\">\n<span class=\"price\">13.4 tỷ</span>\n<span class=\"dot\">·</span>\n<span class=\"area\">100 m²</span>\n<span class=\"dot\">·</span>\n<span class=\"location\">Quận 2, Hồ Chí Minh</span>\n</div>, <div class=\"product-info\">\n<span class=\"price\">5.4 tỷ</span>\n<span class=\"dot\">·</span>\n<span class=\"area\">95 m²</span>\n<span class=\"dot\">·</span>\n<span class=\"bedroom\">2 PN</span>\n<span class=\"dot\">·</span>\n<span class=\"toilet\">2 WC</span>\n<span class=\"location\">Quận 2, Hồ Chí Minh</span>\n</div>, <div class=\"product-info\">\n<span class=\"price\">18.4 tỷ</span>\n<span class=\"dot\">·</span>\n<span class=\"area\">200 m²</span>\n<span class=\"dot\">·</span>\n<span class=\"location\">Quận 9, Hồ Chí Minh</span>\n</div>, <div class=\"product-info\">\n<span class=\"price\">3.7 tỷ</span>\n<span class=\"dot\">·</span>\n<span class=\"area\">67 m²</span>\n<span class=\"dot\">·</span>\n<span class=\"bedroom\">2 PN</span>\n<span class=\"dot\">·</span>\n<span class=\"toilet\">2 WC</span>\n<span class=\"location\">Quận 2, Hồ Chí Minh</span>\n</div>, <div class=\"product-info\">\n<span class=\"price\">1.69 tỷ</span>\n<span class=\"dot\">·</span>\n<span class=\"area\">46 m²</span>\n<span class=\"dot\">·</span>\n<span class=\"location\">Quận 9, Hồ Chí Minh</span>\n</div>, <div class=\"product-info\">\n<span class=\"price\">3.8 tỷ</span>\n<span class=\"dot\">·</span>\n<span class=\"area\">108 m²</span>\n<span class=\"dot\">·</span>\n<span class=\"bedroom\">3 PN</span>\n<span class=\"dot\">·</span>\n<span class=\"toilet\">2 WC</span>\n<span class=\"location\">Quận 12, Hồ Chí Minh</span>\n</div>, <div class=\"product-info\">\n<span class=\"price\">2.1 tỷ</span>\n<span class=\"dot\">·</span>\n<span class=\"area\">73 m²</span>\n<span class=\"dot\">·</span>\n<span class=\"location\">Quận 8, Hồ Chí Minh</span>\n</div>, <div class=\"product-info\">\n<span class=\"price\">5.5 tỷ</span>\n<span class=\"dot\">·</span>\n<span class=\"area\">86 m²</span>\n<span class=\"dot\">·</span>\n<span class=\"location\">Quận 10, Hồ Chí Minh</span>\n</div>, <div class=\"product-info\">\n<span class=\"price\">2.4 tỷ</span>\n<span class=\"dot\">·</span>\n<span class=\"area\">65 m²</span>\n<span class=\"dot\">·</span>\n<span class=\"location\">Quận 12, Hồ Chí Minh</span>\n</div>, <div class=\"product-info\">\n<span class=\"price\">3.6 tỷ</span>\n<span class=\"dot\">·</span>\n<span class=\"area\">1000 m²</span>\n<span class=\"dot\">·</span>\n<span class=\"location\">Cần Giờ, Hồ Chí Minh</span>\n</div>]\n"
     ]
    }
   ],
   "source": [
    "def getProductInforList():\n",
    "    page_source=BeautifulSoup(driver.page_source)\n",
    "    product_infore_list = page_source.find_all('div',class_=\"product-info\")\n",
    "    return product_infore_list\n",
    "print(getProductInforList())"
   ]
  },
  {
   "cell_type": "code",
   "execution_count": 11,
   "metadata": {
    "tags": []
   },
   "outputs": [
    {
     "output_type": "stream",
     "name": "stdout",
     "text": [
      "['https://batdongsan.com.vn/nha-dat-ban-tp-hcm/p1', 'https://batdongsan.com.vn/nha-dat-ban-tp-hcm/p2', 'https://batdongsan.com.vn/nha-dat-ban-tp-hcm/p3']\n"
     ]
    }
   ],
   "source": [
    "def getURLsonPage():\n",
    "    input_page=int(input('How many pages you want to srape: '))\n",
    "    URLs_all_page=[]\n",
    "    for page in range(input_page):\n",
    "        URLs_one_page = \"https://batdongsan.com.vn/nha-dat-ban-tp-hcm/p\" + str(page + 1) \n",
    "        URLs_all_page.append(URLs_one_page)  \n",
    "    return URLs_all_page\n",
    "\n",
    "    driver.get(URLs_all_page[0])\n",
    "    page_source=BeautifulSoup(driver.page_source)\n",
    "    # print('yes',page_source)\n",
    "print(getURLsonPage())\n"
   ]
  },
  {
   "cell_type": "code",
   "execution_count": 28,
   "metadata": {
    "tags": []
   },
   "outputs": [
    {
     "output_type": "stream",
     "name": "stdout",
     "text": [
      "['https://batdongsan.com.vn/nha-dat-ban-tp-hcm/p1', 'https://batdongsan.com.vn/nha-dat-ban-tp-hcm/p2', 'https://batdongsan.com.vn/nha-dat-ban-tp-hcm/p3']\n",
      "<class 'bs4.element.ResultSet'>\n",
      "Giá thỏa thuận 1100 m² Quận 2, Hồ Chí Minh\n",
      "Giá thỏa thuận 1000 m² Quận 2, Hồ Chí Minh\n",
      "55 tỷ 3966 m² Bình Thạnh, Hồ Chí Minh\n",
      "3.8 tỷ 70 m² Quận 2, Hồ Chí Minh\n",
      "Giá thỏa thuận 136 m² Quận 8, Hồ Chí Minh\n",
      "7.7 tỷ 92.3 m² Bình Tân, Hồ Chí Minh\n",
      "1.4 tỷ 85 m² Củ Chi, Hồ Chí Minh\n",
      "6.2 tỷ 102 m² Quận 2, Hồ Chí Minh\n",
      "15 tỷ 100 m² Gò Vấp, Hồ Chí Minh\n",
      "15.2 tỷ 100 m² Gò Vấp, Hồ Chí Minh\n",
      "55 triệu/m² 240 m² Tân Phú, Hồ Chí Minh\n",
      "14.5 tỷ 105.5 m² Quận 6, Hồ Chí Minh\n",
      "13.4 tỷ 100 m² Quận 2, Hồ Chí Minh\n",
      "5.4 tỷ 95 m² Quận 2, Hồ Chí Minh\n",
      "18.4 tỷ 200 m² Quận 9, Hồ Chí Minh\n",
      "3.7 tỷ 67 m² Quận 2, Hồ Chí Minh\n",
      "1.69 tỷ 46 m² Quận 9, Hồ Chí Minh\n",
      "3.8 tỷ 108 m² Quận 12, Hồ Chí Minh\n",
      "2.1 tỷ 73 m² Quận 8, Hồ Chí Minh\n",
      "5.5 tỷ 86 m² Quận 10, Hồ Chí Minh\n"
     ]
    }
   ],
   "source": [
    "\n",
    "\n",
    "\n",
    "\n"
   ]
  },
  {
   "cell_type": "code",
   "execution_count": 40,
   "metadata": {},
   "outputs": [
    {
     "output_type": "stream",
     "name": "stdout",
     "text": [
      "['https://batdongsan.com.vn/nha-dat-ban-tp-hcm/p1', 'https://batdongsan.com.vn/nha-dat-ban-tp-hcm/p2', 'https://batdongsan.com.vn/nha-dat-ban-tp-hcm/p3']\n",
      "<class 'bs4.element.ResultSet'>\n",
      "3.75 tỷ 77 m² Quận 2, Hồ Chí Minh\n",
      "5.9 tỷ 112 m² Nhà Bè, Hồ Chí Minh\n",
      "4.4 tỷ 91.5 m² Quận 12, Hồ Chí Minh\n",
      "1 tỷ 30 m² Quận 9, Hồ Chí Minh\n",
      "13.2 tỷ 100 m² Quận 2, Hồ Chí Minh\n",
      "Giá thỏa thuận 232 m² Quận 2, Hồ Chí Minh\n",
      "Giá thỏa thuận 1000 m² Quận 2, Hồ Chí Minh\n",
      "55 tỷ 396.6 m² Bình Thạnh, Hồ Chí Minh\n",
      "3.8 tỷ 70 m² Quận 2, Hồ Chí Minh\n",
      "28.7 triệu/m² 136 m² Quận 8, Hồ Chí Minh\n",
      "7.7 tỷ 92.3 m² Bình Tân, Hồ Chí Minh\n",
      "1.4 tỷ 85 m² Củ Chi, Hồ Chí Minh\n",
      "6.2 tỷ 102 m² Quận 2, Hồ Chí Minh\n",
      "15 tỷ 100 m² Gò Vấp, Hồ Chí Minh\n",
      "15.2 tỷ 100 m² Gò Vấp, Hồ Chí Minh\n",
      "55 triệu/m² 240 m² Tân Phú, Hồ Chí Minh\n",
      "14.5 tỷ 105.5 m² Quận 6, Hồ Chí Minh\n",
      "13.4 tỷ 100 m² Quận 2, Hồ Chí Minh\n",
      "5.4 tỷ 95 m² Quận 2, Hồ Chí Minh\n",
      "18.4 tỷ 200 m² Quận 9, Hồ Chí Minh\n"
     ]
    }
   ],
   "source": [
    "with open('output.csv','w',newline= \"\") as file_output:\n",
    "    headers=['Location','Area','Price']\n",
    "    writer =csv.DictWriter(file_output,delimiter=',',lineterminator='\\n',fieldnames=headers)\n",
    "    writer.writeheader()\n",
    "    URLs_all_page=getURLsonPage()\n",
    "    print(URLs_all_page)\n",
    "    driver.get(URLs_all_page[0])\n",
    "    page_source=BeautifulSoup(driver.page_source,\"html.parser\")\n",
    "    # print('yes',page_source)\n",
    "    product_info_list = page_source.find_all('div',class_=\"product-info\")\n",
    "    # print(product_info_list)\n",
    "    print(type(product_info_list))\n",
    "    for product in product_info_list:\n",
    "        product_details=product.find_all('span')\n",
    "        price=product_details[0].get_text().strip()\n",
    "        area=product.find(\"span\",class_=\"area\").get_text().strip()\n",
    "        location=product.find(\"span\",class_=\"location\").get_text().strip()\n",
    "        #  area=product_details[1].get_text().strip()\n",
    "        #  location=product_details[3].get_text().strip()\n",
    "        writer.writerow({headers[0]:location,headers[1]:area,headers[2]:price})\n",
    "        print(price,area,location)\n",
    "\n",
    "    "
   ]
  },
  {
   "cell_type": "code",
   "execution_count": null,
   "metadata": {},
   "outputs": [],
   "source": []
  }
 ]
}